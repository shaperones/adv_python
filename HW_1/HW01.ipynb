{
 "cells": [
  {
   "cell_type": "markdown",
   "metadata": {},
   "source": [
    "# ДЗ №1 - обучение модели линейной регресии методом градиентного спуска"
   ]
  },
  {
   "cell_type": "markdown",
   "metadata": {},
   "source": [
    "Реализовать обучение модели линейной регрессии методом градиентного спуска.<br />\n",
    "\n",
    "В качестве подводящего упражнения в этом задании предлагается реализовать функции потерь и саму модель линейной регрессии в манере, схожей с построением модулей фреймворка pytorch (см. пояснения в шаблонах кода)\n",
    "\n",
    "В решении ожидается наличие следующих ключевых составляющих:<br />\n",
    "\n",
    "#### Текстовое описание в решении:\n",
    "- формулировка задачи, формулировка признакового описания объектов, формулировка функции ошибки, формулировка меры качества модели;\n",
    "- исследование исходных данных на предмет скоррелированности признаков; фильтрация признаков; порождение признаков (при необходимости);\n",
    "- оценка параметров модели линейной регрессии (обучение модели) методом градиентного спуска;\n",
    "- оценка качества модели на валидационной выборке.\n",
    "\n",
    "#### Код решения:\n",
    "(используйте предлагаемые шаблоны)\n",
    "- формулировка модели линейной регрессии;\n",
    "- формулировка функции ошибки;\n",
    "- формулировка метрики (метрик);\n",
    "- формулировка цикла оптимизации параметров.\n",
    "\n",
    "\n",
    "#### Визуализация в решении:\n",
    "- распределение признаков;\n",
    "- распределение целевой переменной;\n",
    "- эволюция функции ошибки и выбранных метрик качества по ходу обучения.\n",
    "\n",
    "#### Выводы (в форме текста!)\n",
    "- вывод о том, насколько модель подходит для описания данных\n",
    "- вывод о достаточности или избыточности данных для оценки параметров модели\n",
    "- вывод о соотношении выразительности модели и ее обобщающей способности (наблюдаются ли явления переобучения или недообучения).\n",
    "\n",
    "Примечания:<br />\n",
    "Допустимо порождение признаков (полиномиальных, экспоненциальных, логарифмических, etc.)<br />\n",
    "Реализация линейной регрессии может быть написана только с использованием библиотеки Numpy. Решения с использованием библиотек автоматического вычисления градиентов не засчитываются.<br />\n",
    "Из готовых реализаций (напр., из пакета scikit-learn) в этом задании допускается использовать только порождение полиномиальных признаков `PolynomialFeatures`."
   ]
  },
  {
   "cell_type": "markdown",
   "metadata": {},
   "source": [
    "Данные находятся в следующих файлах:\n",
    "\n",
    "Признаковое описание объектов обучающей выборки - в файле X_train.npy\n",
    "\n",
    "Значения целевой переменной на обучающей выборке - в файле y_train.npy"
   ]
  },
  {
   "cell_type": "markdown",
   "metadata": {},
   "source": [
    "Способ чтения данных из файлов *.npy :\n",
    "\n",
    "```\n",
    "import numpy as np\n",
    "data = np.load('/path/to/filename.npy')\n",
    "```"
   ]
  },
  {
   "cell_type": "markdown",
   "metadata": {},
   "source": [
    "### Примечание на предмет реализации градиента функции потерь\n",
    "\n",
    "Нелишним будет вспомнить способ вычисления градиента сложной функции. Здесь функция ошибки (обозначено как $\\mathscr{L}$) представлена как сложная функция $\\mathscr{L}\\left( G\\left( \\theta \\right) \\right)$. Для простоты приведена сразу матричная запись.\n",
    "\n",
    "$$\n",
    "\\nabla_{\\theta}{\\mathscr{L}} = \\nabla_{\\theta}{G}\\cdot\\left(\\nabla_{G}{\\mathscr{L}}\\right)\n",
    "$$\n",
    "\n",
    "В качестве шпаргалки можно подсмотреть правила матричного дифференцирования <a href=\"https://www.math.uwaterloo.ca/~hwolkowi/matrixcookbook.pdf\">здесь</a>\n",
    "\n",
    "Например, в случае функции потерь MSE это может выглядеть следующим образом:\n",
    "\n",
    "$$\n",
    "\\nabla_{\\theta}{\\mathscr{L}} = X^T\\cdot2\\left(X\\theta - Y\\right)\n",
    "$$\n",
    "\n",
    "\n",
    "При этом логически имеет смысл реализовать компоненту градиента, относящуюся собственно к функции потерь $\\nabla_{G}{\\mathscr{L}}$ - в коде класса функции потерь, а компоненту, относящуюся к модели $\\nabla_{\\theta}{G}$ - в коде модели.\n",
    "\n",
    "Именно поэтому классы `loss` и `linear_regression` в предложенном шаблоне реализованы наследующими `Differentiable` - для общности восприятия этих модулей как дифференцируемых по своим аргументам."
   ]
  },
  {
   "cell_type": "code",
   "execution_count": 1,
   "metadata": {},
   "outputs": [],
   "source": [
    "import numpy as np\n",
    "from tqdm import tqdm\n",
    "import matplotlib.pyplot as plt\n",
    "from sklearn.model_selection import train_test_split\n",
    "%matplotlib inline"
   ]
  },
  {
   "cell_type": "code",
   "execution_count": 2,
   "metadata": {},
   "outputs": [],
   "source": [
    "X = np.load('./X_train.npy')\n",
    "y = np.load('./y_train.npy')"
   ]
  },
  {
   "cell_type": "code",
   "execution_count": 3,
   "metadata": {},
   "outputs": [
    {
     "name": "stdout",
     "output_type": "stream",
     "text": [
      "(10000, 4) (10000, 1)\n"
     ]
    }
   ],
   "source": [
    "print(X.shape, y.shape)"
   ]
  },
  {
   "cell_type": "markdown",
   "metadata": {},
   "source": [
    "Добавим в признаки столбец единиц, а затем разделим выборку на train и test как 80:20"
   ]
  },
  {
   "cell_type": "code",
   "execution_count": 4,
   "metadata": {},
   "outputs": [],
   "source": [
    "X = np.hstack((np.ones((len(X), 1)), X))"
   ]
  },
  {
   "cell_type": "markdown",
   "metadata": {},
   "source": [
    "По-хорошему здесь нужно бы посмотреть на признаки. Да, в данном случае признаков только 4 (5), но можно..."
   ]
  },
  {
   "cell_type": "code",
   "execution_count": 5,
   "metadata": {},
   "outputs": [
    {
     "data": {
      "text/html": [
       "<div>\n",
       "<style scoped>\n",
       "    .dataframe tbody tr th:only-of-type {\n",
       "        vertical-align: middle;\n",
       "    }\n",
       "\n",
       "    .dataframe tbody tr th {\n",
       "        vertical-align: top;\n",
       "    }\n",
       "\n",
       "    .dataframe thead th {\n",
       "        text-align: right;\n",
       "    }\n",
       "</style>\n",
       "<table border=\"1\" class=\"dataframe\">\n",
       "  <thead>\n",
       "    <tr style=\"text-align: right;\">\n",
       "      <th></th>\n",
       "      <th>a</th>\n",
       "      <th>b</th>\n",
       "      <th>c</th>\n",
       "      <th>d</th>\n",
       "      <th>e</th>\n",
       "      <th>target</th>\n",
       "    </tr>\n",
       "  </thead>\n",
       "  <tbody>\n",
       "    <tr>\n",
       "      <th>0</th>\n",
       "      <td>1.0</td>\n",
       "      <td>-1.379859</td>\n",
       "      <td>-1.639242</td>\n",
       "      <td>1.904012</td>\n",
       "      <td>-2.627268</td>\n",
       "      <td>2.468626</td>\n",
       "    </tr>\n",
       "    <tr>\n",
       "      <th>1</th>\n",
       "      <td>1.0</td>\n",
       "      <td>-5.411598</td>\n",
       "      <td>-5.495438</td>\n",
       "      <td>29.285391</td>\n",
       "      <td>-158.480757</td>\n",
       "      <td>9.998146</td>\n",
       "    </tr>\n",
       "    <tr>\n",
       "      <th>2</th>\n",
       "      <td>1.0</td>\n",
       "      <td>-4.299786</td>\n",
       "      <td>-4.594803</td>\n",
       "      <td>18.488158</td>\n",
       "      <td>-79.495119</td>\n",
       "      <td>9.279000</td>\n",
       "    </tr>\n",
       "    <tr>\n",
       "      <th>3</th>\n",
       "      <td>1.0</td>\n",
       "      <td>-6.005137</td>\n",
       "      <td>-5.921348</td>\n",
       "      <td>36.061665</td>\n",
       "      <td>-216.555224</td>\n",
       "      <td>8.634806</td>\n",
       "    </tr>\n",
       "    <tr>\n",
       "      <th>4</th>\n",
       "      <td>1.0</td>\n",
       "      <td>-6.420339</td>\n",
       "      <td>-6.364172</td>\n",
       "      <td>41.220748</td>\n",
       "      <td>-264.651158</td>\n",
       "      <td>9.567111</td>\n",
       "    </tr>\n",
       "    <tr>\n",
       "      <th>...</th>\n",
       "      <td>...</td>\n",
       "      <td>...</td>\n",
       "      <td>...</td>\n",
       "      <td>...</td>\n",
       "      <td>...</td>\n",
       "      <td>...</td>\n",
       "    </tr>\n",
       "    <tr>\n",
       "      <th>9995</th>\n",
       "      <td>1.0</td>\n",
       "      <td>5.179724</td>\n",
       "      <td>5.468711</td>\n",
       "      <td>26.829543</td>\n",
       "      <td>138.969632</td>\n",
       "      <td>16.540534</td>\n",
       "    </tr>\n",
       "    <tr>\n",
       "      <th>9996</th>\n",
       "      <td>1.0</td>\n",
       "      <td>1.252368</td>\n",
       "      <td>1.022007</td>\n",
       "      <td>1.568426</td>\n",
       "      <td>1.964247</td>\n",
       "      <td>-0.693184</td>\n",
       "    </tr>\n",
       "    <tr>\n",
       "      <th>9997</th>\n",
       "      <td>1.0</td>\n",
       "      <td>3.642290</td>\n",
       "      <td>3.738478</td>\n",
       "      <td>13.266275</td>\n",
       "      <td>48.319618</td>\n",
       "      <td>4.453555</td>\n",
       "    </tr>\n",
       "    <tr>\n",
       "      <th>9998</th>\n",
       "      <td>1.0</td>\n",
       "      <td>3.657986</td>\n",
       "      <td>3.907226</td>\n",
       "      <td>13.380859</td>\n",
       "      <td>48.946990</td>\n",
       "      <td>4.996794</td>\n",
       "    </tr>\n",
       "    <tr>\n",
       "      <th>9999</th>\n",
       "      <td>1.0</td>\n",
       "      <td>6.612061</td>\n",
       "      <td>6.612828</td>\n",
       "      <td>43.719355</td>\n",
       "      <td>289.075060</td>\n",
       "      <td>36.400185</td>\n",
       "    </tr>\n",
       "  </tbody>\n",
       "</table>\n",
       "<p>10000 rows × 6 columns</p>\n",
       "</div>"
      ],
      "text/plain": [
       "        a         b         c          d           e     target\n",
       "0     1.0 -1.379859 -1.639242   1.904012   -2.627268   2.468626\n",
       "1     1.0 -5.411598 -5.495438  29.285391 -158.480757   9.998146\n",
       "2     1.0 -4.299786 -4.594803  18.488158  -79.495119   9.279000\n",
       "3     1.0 -6.005137 -5.921348  36.061665 -216.555224   8.634806\n",
       "4     1.0 -6.420339 -6.364172  41.220748 -264.651158   9.567111\n",
       "...   ...       ...       ...        ...         ...        ...\n",
       "9995  1.0  5.179724  5.468711  26.829543  138.969632  16.540534\n",
       "9996  1.0  1.252368  1.022007   1.568426    1.964247  -0.693184\n",
       "9997  1.0  3.642290  3.738478  13.266275   48.319618   4.453555\n",
       "9998  1.0  3.657986  3.907226  13.380859   48.946990   4.996794\n",
       "9999  1.0  6.612061  6.612828  43.719355  289.075060  36.400185\n",
       "\n",
       "[10000 rows x 6 columns]"
      ]
     },
     "execution_count": 5,
     "metadata": {},
     "output_type": "execute_result"
    }
   ],
   "source": [
    "import pandas as pd\n",
    "data = pd.DataFrame(X, columns=['a', 'b', 'c', 'd', 'e'])\n",
    "data['target'] = y\n",
    "data"
   ]
  },
  {
   "cell_type": "code",
   "execution_count": 6,
   "metadata": {},
   "outputs": [
    {
     "data": {
      "image/png": "[encoded data removed]",
      "text/plain": [
       "<Figure size 504x360 with 2 Axes>"
      ]
     },
     "metadata": {
      "needs_background": "light"
     },
     "output_type": "display_data"
    }
   ],
   "source": [
    "import seaborn as sns\n",
    "corr = data.corr(method='spearman')\n",
    "\n",
    "fig, ax = plt.subplots(figsize=(7,5))     \n",
    "sns.heatmap(corr, ax=ax)\n",
    "ax.set_title('Матрица корреляций');\n",
    "plt.tight_layout()"
   ]
  },
  {
   "cell_type": "markdown",
   "metadata": {},
   "source": [
    "Вывод: в данных скоррелированы столбцы b, c, e. Вообще, если бы было побольше данных, можно было бы оставить только столбцы a, b, d"
   ]
  },
  {
   "cell_type": "code",
   "execution_count": 7,
   "metadata": {},
   "outputs": [],
   "source": [
    "X_train, X_test, y_train, y_test = train_test_split(X, y, test_size=0.2, random_state=420, shuffle=True)"
   ]
  },
  {
   "cell_type": "code",
   "execution_count": 8,
   "metadata": {},
   "outputs": [
    {
     "name": "stdout",
     "output_type": "stream",
     "text": [
      "(8000, 5) (8000, 1)\n"
     ]
    }
   ],
   "source": [
    "print(X_train.shape, y_train.shape)"
   ]
  },
  {
   "cell_type": "code",
   "execution_count": 9,
   "metadata": {},
   "outputs": [],
   "source": [
    "class Differentiable:\n",
    "    def __init__(self):\n",
    "        pass\n",
    "    \n",
    "    def forward(self, **kwargs):\n",
    "        raise NotImplementedError()\n",
    "    \n",
    "    def backward(self, **kwargs):\n",
    "        raise NotImplementedError()"
   ]
  },
  {
   "attachments": {
    "image.png": {
     "image/png": "[encoded data removed]"
    }
   },
   "cell_type": "markdown",
   "metadata": {},
   "source": [
    "ИМХО градиент для MSE не такой, как подсказывают составители - нужно еще делить на N: ![image.png](attachment:image.png)"
   ]
  },
  {
   "cell_type": "code",
   "execution_count": 10,
   "metadata": {},
   "outputs": [],
   "source": [
    "class loss(Differentiable):\n",
    "    def __init__(self):\n",
    "        super(loss, self).__init__()\n",
    "    \n",
    "    def forward(self, y_pred, y_true):\n",
    "\n",
    "        loss_value = (y_true - y_pred).T @ (y_true - y_pred)     \n",
    "        return loss_value[0] / len(y_pred)\n",
    "    \n",
    "    \n",
    "    def backward(self, y_pred, y_true):\n",
    "\n",
    "        partial_grad = 2 * (y_pred - y_true) / len(y_pred)\n",
    "        return partial_grad"
   ]
  },
  {
   "cell_type": "code",
   "execution_count": 11,
   "metadata": {},
   "outputs": [],
   "source": [
    "class linear_regression(Differentiable):\n",
    "    def __init__(self):\n",
    "        super(linear_regression, self).__init__()\n",
    "        self.theta = None\n",
    "    \n",
    "    def __call__(self, X):\n",
    "        # этот метод предназначен для вычисления значения целевой переменной\n",
    "        return self.forward(X)\n",
    "    \n",
    "    def backward(self, X):\n",
    "\n",
    "        partial_grad = X.T\n",
    "        return partial_grad\n",
    "    \n",
    "    def forward(self, X):\n",
    "        # этот метод предназначен для применения модели к данным\n",
    "        assert X.ndim == 2, \"X should be 2-dimensional: (N of objects, n of features)\"\n",
    "        \n",
    "        if (self.theta is None):\n",
    "            # Если вектор параметров еще не инициализирован, его следует инициализировать\n",
    "            # Подсказка: длина вектора параметров может быть получена из размера матрицы X\n",
    "            self.theta = np.random.rand(X.shape[1], 1)\n",
    "            \n",
    "        y_pred = X @ self.theta\n",
    "        return y_pred"
   ]
  },
  {
   "cell_type": "markdown",
   "metadata": {},
   "source": [
    "Насколько я поняла, на семинарах были батчи, так что напишу с батчами..."
   ]
  },
  {
   "cell_type": "code",
   "execution_count": 12,
   "metadata": {},
   "outputs": [],
   "source": [
    "def train_loop(X, y, model, loss_fn, batch_size, learning_rate, epochs=100):\n",
    "    loss_history = []\n",
    "    pbar = tqdm(total=epochs)\n",
    "    \n",
    "    for epoch in range(epochs):\n",
    "        # В этом цикле следует реализовать итеративную процедуру оптимизации параметров модели model,\n",
    "        #        руководствуясь функцией потерь loss_fn\n",
    "\n",
    "        indices = np.arange(X.shape[0])\n",
    "        np.random.shuffle(indices)\n",
    "\n",
    "        X = X[indices]\n",
    "        y = y[indices]\n",
    "        \n",
    "        loss_value = np.zeros((X.shape[1], 1))\n",
    "\n",
    "        for batch in range(len(X)//batch_size):\n",
    "            start = batch * batch_size\n",
    "            stop = (batch * batch_size) + batch_size\n",
    "\n",
    "            X_batch = X[start:stop]\n",
    "            y_batch = y[start:stop]\n",
    "                \n",
    "            y_pred = model.forward(X_batch)\n",
    "            loss_value = loss_fn.forward(y_pred, y_batch)\n",
    "            grad = model.backward(X_batch) @ loss_fn.backward(y_pred, y_batch)\n",
    "            model.theta -= learning_rate * grad\n",
    "\n",
    "        loss_history.append(loss_value)\n",
    "        pbar.update(1)\n",
    "        pbar.set_postfix({'loss': loss_value})\n",
    "    pbar.close()\n",
    "    return loss_history"
   ]
  },
  {
   "cell_type": "code",
   "execution_count": 13,
   "metadata": {},
   "outputs": [
    {
     "name": "stderr",
     "output_type": "stream",
     "text": [
      "100%|████████████████████████████████████████████████████████████████████████████████████| 1000/1000 [00:03<00:00, 260.37it/s, loss=[1.33402443]]\n"
     ]
    }
   ],
   "source": [
    "obj_fn = loss()\n",
    "lr_model = linear_regression()\n",
    "loss_history = train_loop(X_train, y_train, lr_model, obj_fn, batch_size=400, learning_rate=0.00001, epochs=1000)"
   ]
  },
  {
   "cell_type": "code",
   "execution_count": 14,
   "metadata": {},
   "outputs": [
    {
     "data": {
      "image/png": "[encoded data removed]",
      "text/plain": [
       "<Figure size 432x288 with 1 Axes>"
      ]
     },
     "metadata": {
      "needs_background": "light"
     },
     "output_type": "display_data"
    }
   ],
   "source": [
    "plt.plot(loss_history);"
   ]
  },
  {
   "cell_type": "code",
   "execution_count": 15,
   "metadata": {},
   "outputs": [
    {
     "data": {
      "text/plain": [
       "array([[ 0.482952  ],\n",
       "       [-0.23478643],\n",
       "       [-1.19351028],\n",
       "       [ 0.50074366],\n",
       "       [ 0.08102812]])"
      ]
     },
     "execution_count": 15,
     "metadata": {},
     "output_type": "execute_result"
    }
   ],
   "source": [
    "lr_model.theta"
   ]
  },
  {
   "cell_type": "code",
   "execution_count": 16,
   "metadata": {},
   "outputs": [
    {
     "name": "stdout",
     "output_type": "stream",
     "text": [
      "[1.25469875]\n"
     ]
    }
   ],
   "source": [
    "y_pred_test = lr_model.forward(X_test)\n",
    "test_loss = obj_fn.forward(y_pred_test, y_test)\n",
    "print(test_loss)"
   ]
  },
  {
   "cell_type": "markdown",
   "metadata": {},
   "source": [
    "Вывод: наибольший вклад внесли признаки b, c, d. Лосс хороший, не превысил лосс на трейне."
   ]
  },
  {
   "cell_type": "markdown",
   "metadata": {},
   "source": [
    "Посмотрим результаты на другом размере батча"
   ]
  },
  {
   "cell_type": "code",
   "execution_count": 17,
   "metadata": {},
   "outputs": [
    {
     "name": "stderr",
     "output_type": "stream",
     "text": [
      "100%|████████████████████████████████████████████████████████████████████████████████████| 1000/1000 [00:08<00:00, 117.01it/s, loss=[0.96093739]]\n"
     ]
    }
   ],
   "source": [
    "obj_fn = loss()\n",
    "lr_model = linear_regression()\n",
    "loss_history = train_loop(X_train, y_train, lr_model, obj_fn, batch_size=40, learning_rate=0.00001, epochs=1000)"
   ]
  },
  {
   "cell_type": "code",
   "execution_count": 18,
   "metadata": {},
   "outputs": [
    {
     "data": {
      "image/png": "[encoded data removed]",
      "text/plain": [
       "<Figure size 432x288 with 1 Axes>"
      ]
     },
     "metadata": {
      "needs_background": "light"
     },
     "output_type": "display_data"
    }
   ],
   "source": [
    "plt.plot(loss_history);"
   ]
  },
  {
   "cell_type": "code",
   "execution_count": 19,
   "metadata": {},
   "outputs": [
    {
     "data": {
      "text/plain": [
       "array([[-0.69750007],\n",
       "       [-0.53126086],\n",
       "       [-0.90907591],\n",
       "       [ 0.52882544],\n",
       "       [ 0.08233654]])"
      ]
     },
     "execution_count": 19,
     "metadata": {},
     "output_type": "execute_result"
    }
   ],
   "source": [
    "lr_model.theta"
   ]
  },
  {
   "cell_type": "code",
   "execution_count": 20,
   "metadata": {},
   "outputs": [
    {
     "name": "stdout",
     "output_type": "stream",
     "text": [
      "[0.65693293]\n"
     ]
    }
   ],
   "source": [
    "y_pred_test = lr_model.forward(X_test)\n",
    "test_loss = obj_fn.forward(y_pred_test, y_test)\n",
    "print(test_loss)"
   ]
  },
  {
   "cell_type": "markdown",
   "metadata": {},
   "source": [
    "Вывод: меньший размер батча обеспечил более быстрое обучение модели и чуть лучший лосс, но принципиально и так было норм"
   ]
  }
 ],
 "metadata": {
  "kernelspec": {
   "display_name": "Python 3 (ipykernel)",
   "language": "python",
   "name": "python3"
  },
  "language_info": {
   "codemirror_mode": {
    "name": "ipython",
    "version": 3
   },
   "file_extension": ".py",
   "mimetype": "text/x-python",
   "name": "python",
   "nbconvert_exporter": "python",
   "pygments_lexer": "ipython3",
   "version": "3.8.10"
  }
 },
 "nbformat": 4,
 "nbformat_minor": 2
}
